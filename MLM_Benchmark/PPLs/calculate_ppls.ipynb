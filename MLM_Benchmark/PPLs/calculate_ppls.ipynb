{
 "cells": [
  {
   "cell_type": "code",
   "execution_count": 1,
   "metadata": {},
   "outputs": [],
   "source": [
    "import sentencepiece as spm\n",
    "from calculate_ppls_utils import *\n",
    "%reload_ext autoreload\n",
    "%autoreload 2\n"
   ]
  },
  {
   "cell_type": "markdown",
   "metadata": {},
   "source": [
    "#### Train an example spm from visual novel data"
   ]
  },
  {
   "cell_type": "code",
   "execution_count": 13,
   "metadata": {},
   "outputs": [],
   "source": [
    "\n",
    "spm.SentencePieceTrainer.train(\"--input=Otaku-Benchmark\\Visual_Novel\\japaneseOriginal.txt --model_prefix=MLM_Benchmark\\PPLs\\spm --vocab_size=8000 --user_defined_symbols=[MASK]\")"
   ]
  },
  {
   "cell_type": "code",
   "execution_count": 14,
   "metadata": {},
   "outputs": [],
   "source": [
    "s = spm.SentencePieceProcessor(model_file=\"MLM_Benchmark\\PPLs\\spm.model\")"
   ]
  },
  {
   "cell_type": "markdown",
   "metadata": {},
   "source": [
    "#### Prepare dataset"
   ]
  },
  {
   "cell_type": "code",
   "execution_count": 20,
   "metadata": {},
   "outputs": [],
   "source": [
    "prepare_dataset(\"Otaku-Benchmark\\Visual_Novel\\japaneseOriginal.txt\", \"MLM_Benchmark\\PPLs\\example_dataset\", s)"
   ]
  },
  {
   "cell_type": "code",
   "execution_count": 21,
   "metadata": {},
   "outputs": [],
   "source": [
    "new_dataset = Dataset.load_from_disk(\"MLM_Benchmark\\PPLs\\example_dataset\")"
   ]
  },
  {
   "cell_type": "code",
   "execution_count": null,
   "metadata": {},
   "outputs": [],
   "source": []
  }
 ],
 "metadata": {
  "interpreter": {
   "hash": "c26c644243da0b173a9fac6b3d9a7a203ca1eae3ac799a995e4a9b3c05675563"
  },
  "kernelspec": {
   "display_name": "Python 3.7.11 ('cs182_hw3')",
   "language": "python",
   "name": "python3"
  },
  "language_info": {
   "codemirror_mode": {
    "name": "ipython",
    "version": 3
   },
   "file_extension": ".py",
   "mimetype": "text/x-python",
   "name": "python",
   "nbconvert_exporter": "python",
   "pygments_lexer": "ipython3",
   "version": "3.7.11"
  },
  "orig_nbformat": 4
 },
 "nbformat": 4,
 "nbformat_minor": 2
}
